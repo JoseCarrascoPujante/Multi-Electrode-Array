{
 "cells": [
  {
   "cell_type": "code",
   "execution_count": null,
   "id": "41ca8ee5-9a91-4133-b2b8-1db55f482541",
   "metadata": {},
   "outputs": [],
   "source": [
    "import pandas as pd\n",
    "%matplotlib widget\n",
    "import matplotlib.pyplot as plt\n",
    "import numpy as np\n",
    "\n",
    "df = pd.read_csv(\"div14 ac(000)(000) per-waveform.csv\", skiprows=1)\n",
    "\n",
    "x=np.array(list(range(0,38)))\n",
    "y=np.array(df.iloc[0,12:])\n",
    "\n",
    "plt.plot(x,y)\n",
    "plt.axis('equal')"
   ]
  },
  {
   "cell_type": "code",
   "execution_count": null,
   "id": "88fcb8a5-7a5d-4d5b-b3b4-b705ec2747db",
   "metadata": {},
   "outputs": [],
   "source": [
    "import scipy.io\n",
    "mat = scipy.io.loadmat('div14 on(004)(000).spk', chars_as_strings=True, simplify_cells=True)\n",
    "matlist = []\n",
    "for i in mat['wellMetricNames']:\n",
    "    matlist.append(i)\n",
    "\n",
    "# for v in matlist:\n",
    "#     if v not in rowlist:\n",
    "#         print(v)"
   ]
  }
 ],
 "metadata": {
  "kernelspec": {
   "display_name": "Python 3 (ipykernel)",
   "language": "python",
   "name": "python3"
  },
  "language_info": {
   "codemirror_mode": {
    "name": "ipython",
    "version": 3
   },
   "file_extension": ".py",
   "mimetype": "text/x-python",
   "name": "python",
   "nbconvert_exporter": "python",
   "pygments_lexer": "ipython3",
   "version": "3.10.0"
  }
 },
 "nbformat": 4,
 "nbformat_minor": 5
}
